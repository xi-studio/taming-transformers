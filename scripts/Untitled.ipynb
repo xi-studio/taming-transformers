{
 "cells": [
  {
   "cell_type": "code",
   "execution_count": 1,
   "id": "2313e260",
   "metadata": {},
   "outputs": [],
   "source": [
    "import sys\n",
    "sys.path.append(\".\")\n",
    "\n",
    "# also disable grad to save memory\n",
    "import torch\n",
    "torch.set_grad_enabled(False)\n",
    "\n",
    "DEVICE = torch.device(\"cuda:0\" if torch.cuda.is_available() else \"cpu\")"
   ]
  },
  {
   "cell_type": "code",
   "execution_count": 2,
   "id": "b7b95d5f",
   "metadata": {},
   "outputs": [],
   "source": [
    "import yaml\n",
    "import torch\n",
    "from omegaconf import OmegaConf\n",
    "from taming.models.vqgan import VQModel\n",
    "\n",
    "def load_config(config_path, display=False):\n",
    "  config = OmegaConf.load(config_path)\n",
    "  if display:\n",
    "    print(yaml.dump(OmegaConf.to_container(config)))\n",
    "  return config\n",
    "\n",
    "def load_vqgan(config, ckpt_path=None):\n",
    "  model = VQModel(**config.model.params)\n",
    "  if ckpt_path is not None:\n",
    "    sd = torch.load(ckpt_path, map_location=\"cpu\")[\"state_dict\"]\n",
    "    missing, unexpected = model.load_state_dict(sd, strict=False)\n",
    "  return model.eval()\n",
    "\n",
    "def preprocess_vqgan(x):\n",
    "  x = 2.*x - 1.\n",
    "  return x\n",
    "\n",
    "def custom_to_pil(x):\n",
    "  x = x.detach().cpu()\n",
    "  x = torch.clamp(x, -1., 1.)\n",
    "  x = (x + 1.)/2.\n",
    "  x = x.permute(1,2,0).numpy()\n",
    "  x = (255*x).astype(np.uint8)\n",
    "  x = Image.fromarray(x)\n",
    "  if not x.mode == \"RGB\":\n",
    "    x = x.convert(\"RGB\")\n",
    "  return x\n",
    "\n",
    "def reconstruct_with_vqgan(x, model):\n",
    "  # could also use model(x) for reconstruction but use explicit encoding and decoding here\n",
    "  z, _, [_, _, indices] = model.encode(x)\n",
    "  print(f\"VQGAN: latent shape: {z.shape[2:]}\")\n",
    "  xrec = model.decode(z)\n",
    "  return xrec"
   ]
  },
  {
   "cell_type": "code",
   "execution_count": 3,
   "id": "1b51c56d",
   "metadata": {},
   "outputs": [],
   "source": [
    "config1024 = load_config(\"../logs/2021-06-08T10-50-38_radar_vqgan/configs/2021-06-08T10-50-38-project.yaml\", display=False)"
   ]
  },
  {
   "cell_type": "code",
   "execution_count": 4,
   "id": "d8b524a2",
   "metadata": {},
   "outputs": [
    {
     "name": "stdout",
     "output_type": "stream",
     "text": [
      "Working with z of shape (1, 256, 16, 16) = 65536 dimensions.\n",
      "loaded pretrained LPIPS loss from taming/modules/autoencoder/lpips/vgg.pth\n",
      "VQLPIPSWithDiscriminator running with hinge loss.\n"
     ]
    }
   ],
   "source": [
    "model1024 = load_vqgan(config1024, ckpt_path=\"../logs/2021-06-08T10-50-38_radar_vqgan/checkpoints/last.ckpt\").to(DEVICE)"
   ]
  },
  {
   "cell_type": "code",
   "execution_count": 5,
   "id": "c38afd88",
   "metadata": {},
   "outputs": [],
   "source": [
    "from skimage import io"
   ]
  },
  {
   "cell_type": "code",
   "execution_count": 6,
   "id": "61ab8d49",
   "metadata": {},
   "outputs": [],
   "source": [
    "img = io.imread('../data/rdhq/Z_RADR_I_Z9010_20190102181800_P_DOR_SA_R_10_230_15.010_clean.png')"
   ]
  },
  {
   "cell_type": "code",
   "execution_count": 7,
   "id": "aab7bf29",
   "metadata": {},
   "outputs": [
    {
     "data": {
      "text/plain": [
       "(256, 256)"
      ]
     },
     "execution_count": 7,
     "metadata": {},
     "output_type": "execute_result"
    }
   ],
   "source": [
    "img.shape"
   ]
  },
  {
   "cell_type": "code",
   "execution_count": 8,
   "id": "f26fc184",
   "metadata": {},
   "outputs": [],
   "source": [
    "from PIL import Image"
   ]
  },
  {
   "cell_type": "code",
   "execution_count": 9,
   "id": "08b6554e",
   "metadata": {},
   "outputs": [],
   "source": [
    "img = Image.open(\"../data/rdhq/Z_RADR_I_Z9010_20190102180000_P_DOR_SA_R_10_230_15.010_clean.png\")"
   ]
  },
  {
   "cell_type": "code",
   "execution_count": 10,
   "id": "dc6d2028",
   "metadata": {},
   "outputs": [],
   "source": [
    "import io\n",
    "import os, sys\n",
    "import requests\n",
    "import PIL\n",
    "from PIL import Image\n",
    "from PIL import ImageDraw, ImageFont\n",
    "import numpy as np\n",
    "\n",
    "import torch\n",
    "import torch.nn.functional as F\n",
    "import torchvision.transforms as T\n",
    "import torchvision.transforms.functional as TF\n"
   ]
  },
  {
   "cell_type": "code",
   "execution_count": 11,
   "id": "750fec38",
   "metadata": {},
   "outputs": [],
   "source": [
    "def preprocess(img, target_image_size=256):\n",
    "    s = min(img.size)\n",
    "    \n",
    "    if s < target_image_size:\n",
    "        raise ValueError(f'min dim for image {s} < {target_image_size}')\n",
    "        \n",
    "    r = target_image_size / s\n",
    "    s = (round(r * img.size[1]), round(r * img.size[0]))\n",
    "    img = TF.resize(img, s, interpolation=PIL.Image.LANCZOS)\n",
    "    img = TF.center_crop(img, output_size=2 * [target_image_size])\n",
    "    img = torch.unsqueeze(T.ToTensor()(img), 0)\n",
    "    return map_pixels(img)"
   ]
  },
  {
   "cell_type": "code",
   "execution_count": 12,
   "id": "a14fd2e3",
   "metadata": {},
   "outputs": [],
   "source": [
    "import io\n",
    "import os, sys\n",
    "import requests\n",
    "import PIL\n",
    "from PIL import Image\n",
    "from PIL import ImageDraw, ImageFont\n",
    "import numpy as np\n",
    "\n",
    "import torch\n",
    "import torch.nn.functional as F\n",
    "import torchvision.transforms as T\n",
    "import torchvision.transforms.functional as TF\n",
    "\n",
    "from dall_e          import map_pixels, unmap_pixels, load_model\n",
    "from IPython.display import display, display_markdown\n",
    "\n",
    "font = ImageFont.truetype(\"/usr/share/fonts/truetype/liberation/LiberationSans-BoldItalic.ttf\", 22)\n",
    "\n",
    "def download_image(url):\n",
    "    resp = requests.get(url)\n",
    "    resp.raise_for_status()\n",
    "    return PIL.Image.open(io.BytesIO(resp.content))\n",
    "\n",
    "\n",
    "def preprocess(img, target_image_size=256):\n",
    "    s = min(img.size)\n",
    "    \n",
    "    if s < target_image_size:\n",
    "        raise ValueError(f'min dim for image {s} < {target_image_size}')\n",
    "        \n",
    "    r = target_image_size / s\n",
    "    s = (round(r * img.size[1]), round(r * img.size[0]))\n",
    "    img = TF.resize(img, s, interpolation=PIL.Image.LANCZOS)\n",
    "    img = TF.center_crop(img, output_size=2 * [target_image_size])\n",
    "    img = torch.unsqueeze(T.ToTensor()(img), 0)\n",
    "    return map_pixels(img)\n",
    "\n",
    "\n",
    "def reconstruct_with_dalle(x, encoder, decoder, do_preprocess=False):\n",
    "  # takes in tensor (or optionally, a PIL image) and returns a PIL image\n",
    "  if do_preprocess:\n",
    "    x = preprocess(x)\n",
    "  z_logits = encoder(x)\n",
    "  z = torch.argmax(z_logits, axis=1)\n",
    "  \n",
    "  print(f\"DALL-E: latent shape: {z.shape}\")\n",
    "  z = F.one_hot(z, num_classes=encoder.vocab_size).permute(0, 3, 1, 2).float()\n",
    "\n",
    "  x_stats = decoder(z).float()\n",
    "  x_rec = unmap_pixels(torch.sigmoid(x_stats[:, :3]))\n",
    "  x_rec = T.ToPILImage(mode='RGB')(x_rec[0])\n",
    "\n",
    "  return x_rec\n",
    "\n",
    "\n",
    "def stack_reconstructions(input, x1, x2, x3, titles=[]):\n",
    "  assert input.size == x1.size == x2.size == x3.size\n",
    "  w, h = input.size[0], input.size[1]\n",
    "  img = Image.new(\"RGB\", (4*w, h))\n",
    "  img.paste(input, (0,0))\n",
    "  img.paste(x1, (1*w,0))\n",
    "  img.paste(x2, (2*w,0))\n",
    "  img.paste(x3, (3*w,0))\n",
    "  for i, title in enumerate(titles):\n",
    "    ImageDraw.Draw(img).text((i*w, 0), f'{title}', (255, 255, 255), font=font) # coordinates, text, color, font\n",
    "  return img"
   ]
  },
  {
   "cell_type": "code",
   "execution_count": 13,
   "id": "c0936e0e",
   "metadata": {},
   "outputs": [],
   "source": [
    "url='https://heibox.uni-heidelberg.de/f/7bb608381aae4539ba7a/?dl=1'"
   ]
  },
  {
   "cell_type": "code",
   "execution_count": 14,
   "id": "3e101289",
   "metadata": {},
   "outputs": [
    {
     "name": "stderr",
     "output_type": "stream",
     "text": [
      "/home/tree/miniconda3/envs/taming/lib/python3.8/site-packages/torchvision/transforms/functional.py:364: UserWarning: Argument interpolation should be of type InterpolationMode instead of int. Please, use InterpolationMode enum.\n",
      "  warnings.warn(\n"
     ]
    }
   ],
   "source": [
    "x = preprocess(download_image(url), target_image_size=256)"
   ]
  },
  {
   "cell_type": "code",
   "execution_count": 16,
   "id": "3a7303d3",
   "metadata": {},
   "outputs": [
    {
     "data": {
      "text/plain": [
       "torch.Size([1, 3, 256, 256])"
      ]
     },
     "execution_count": 16,
     "metadata": {},
     "output_type": "execute_result"
    }
   ],
   "source": [
    "x.shape"
   ]
  },
  {
   "cell_type": "code",
   "execution_count": 18,
   "id": "6e4e2ab6",
   "metadata": {},
   "outputs": [],
   "source": [
    "x = x.to(DEVICE)"
   ]
  },
  {
   "cell_type": "code",
   "execution_count": 19,
   "id": "04e9de12",
   "metadata": {},
   "outputs": [
    {
     "name": "stdout",
     "output_type": "stream",
     "text": [
      "VQGAN: latent shape: torch.Size([16, 16])\n"
     ]
    }
   ],
   "source": [
    "x2 = reconstruct_with_vqgan(preprocess_vqgan(x), model1024)"
   ]
  },
  {
   "cell_type": "code",
   "execution_count": 20,
   "id": "f0deba5d",
   "metadata": {},
   "outputs": [
    {
     "data": {
      "text/plain": [
       "torch.Size([1, 3, 256, 256])"
      ]
     },
     "execution_count": 20,
     "metadata": {},
     "output_type": "execute_result"
    }
   ],
   "source": [
    "x2.shape"
   ]
  },
  {
   "cell_type": "code",
   "execution_count": 23,
   "id": "207ea89f",
   "metadata": {},
   "outputs": [],
   "source": [
    "import matplotlib.pyplot as plt"
   ]
  },
  {
   "cell_type": "code",
   "execution_count": 25,
   "id": "235a8476",
   "metadata": {},
   "outputs": [],
   "source": [
    "z, _, [_, _, indices] = model1024.encode(x)"
   ]
  },
  {
   "cell_type": "code",
   "execution_count": 26,
   "id": "e419c317",
   "metadata": {},
   "outputs": [
    {
     "data": {
      "text/plain": [
       "torch.Size([1, 256, 16, 16])"
      ]
     },
     "execution_count": 26,
     "metadata": {},
     "output_type": "execute_result"
    }
   ],
   "source": [
    "z.shape"
   ]
  },
  {
   "cell_type": "code",
   "execution_count": 27,
   "id": "a65196be",
   "metadata": {},
   "outputs": [],
   "source": [
    "img = torch.argmax(z,axis=1)"
   ]
  },
  {
   "cell_type": "code",
   "execution_count": 28,
   "id": "f74fa736",
   "metadata": {},
   "outputs": [
    {
     "data": {
      "text/plain": [
       "torch.Size([1, 16, 16])"
      ]
     },
     "execution_count": 28,
     "metadata": {},
     "output_type": "execute_result"
    }
   ],
   "source": [
    "img.shape"
   ]
  },
  {
   "cell_type": "code",
   "execution_count": 31,
   "id": "4e446dcd",
   "metadata": {},
   "outputs": [],
   "source": [
    "a = img[0].cpu().numpy()"
   ]
  },
  {
   "cell_type": "code",
   "execution_count": 33,
   "id": "399c7d21",
   "metadata": {},
   "outputs": [
    {
     "data": {
      "text/plain": [
       "<matplotlib.image.AxesImage at 0x7efccbd69f70>"
      ]
     },
     "execution_count": 33,
     "metadata": {},
     "output_type": "execute_result"
    },
    {
     "data": {
      "image/png": "[encoded data removed]",
      "text/plain": [
       "<Figure size 432x288 with 1 Axes>"
      ]
     },
     "metadata": {
      "needs_background": "light"
     },
     "output_type": "display_data"
    }
   ],
   "source": [
    "plt.imshow(a)"
   ]
  },
  {
   "cell_type": "code",
   "execution_count": 40,
   "id": "da12fbd8",
   "metadata": {},
   "outputs": [],
   "source": [
    "pic = PIL.Image.open(\"../data/rdhq/Z_RADR_I_Z9010_20190102175400_P_DOR_SA_R_10_230_15.010_clean.png\")"
   ]
  },
  {
   "cell_type": "code",
   "execution_count": 43,
   "id": "1465c86f",
   "metadata": {},
   "outputs": [],
   "source": [
    "a = pic.convert('RGB')"
   ]
  },
  {
   "cell_type": "code",
   "execution_count": 44,
   "id": "8278c0a4",
   "metadata": {},
   "outputs": [],
   "source": [
    "x = preprocess(a)"
   ]
  },
  {
   "cell_type": "code",
   "execution_count": 47,
   "id": "c8d5f3d3",
   "metadata": {},
   "outputs": [],
   "source": [
    "x = x.to(DEVICE)"
   ]
  },
  {
   "cell_type": "code",
   "execution_count": 51,
   "id": "45f1f508",
   "metadata": {},
   "outputs": [],
   "source": [
    "z, _, [_, _, indices] = model1024.encode(x)"
   ]
  },
  {
   "cell_type": "code",
   "execution_count": 53,
   "id": "1cfa882a",
   "metadata": {},
   "outputs": [
    {
     "data": {
      "text/plain": [
       "torch.Size([1, 256, 16, 16])"
      ]
     },
     "execution_count": 53,
     "metadata": {},
     "output_type": "execute_result"
    }
   ],
   "source": [
    "z.shape"
   ]
  },
  {
   "cell_type": "code",
   "execution_count": 46,
   "id": "d12c001d",
   "metadata": {},
   "outputs": [
    {
     "data": {
      "text/plain": [
       "<matplotlib.image.AxesImage at 0x7efccbdea9a0>"
      ]
     },
     "execution_count": 46,
     "metadata": {},
     "output_type": "execute_result"
    },
    {
     "data": {
      "image/png": "[encoded data removed]",
      "text/plain": [
       "<Figure size 432x288 with 1 Axes>"
      ]
     },
     "metadata": {
      "needs_background": "light"
     },
     "output_type": "display_data"
    }
   ],
   "source": [
    "plt.imshow(x.cpu().numpy()[0][0])"
   ]
  },
  {
   "cell_type": "code",
   "execution_count": 54,
   "id": "1dd47ede",
   "metadata": {},
   "outputs": [],
   "source": [
    "img = torch.argmax(z,axis=1)"
   ]
  },
  {
   "cell_type": "code",
   "execution_count": 56,
   "id": "4338b7a8",
   "metadata": {},
   "outputs": [
    {
     "data": {
      "text/plain": [
       "torch.Size([1, 16, 16])"
      ]
     },
     "execution_count": 56,
     "metadata": {},
     "output_type": "execute_result"
    }
   ],
   "source": [
    "img.shape"
   ]
  },
  {
   "cell_type": "code",
   "execution_count": 57,
   "id": "abc67934",
   "metadata": {},
   "outputs": [
    {
     "data": {
      "text/plain": [
       "<matplotlib.image.AxesImage at 0x7efcca910d00>"
      ]
     },
     "execution_count": 57,
     "metadata": {},
     "output_type": "execute_result"
    },
    {
     "data": {
      "image/png": "[encoded data removed]",
      "text/plain": [
       "<Figure size 432x288 with 1 Axes>"
      ]
     },
     "metadata": {
      "needs_background": "light"
     },
     "output_type": "display_data"
    }
   ],
   "source": [
    "plt.imshow(img[0].cpu().numpy())"
   ]
  },
  {
   "cell_type": "code",
   "execution_count": 59,
   "id": "a1f7d8a3",
   "metadata": {},
   "outputs": [
    {
     "data": {
      "text/plain": [
       "tensor([[ 61,  61,  61,  61,  61,  61,  61,  61,  61,  61,  61,  61,  61,  61,\n",
       "          61,  61],\n",
       "        [ 61,  61,  61,  61,  61,  61,  61,  61,  61,  61,  61,  61,  61,  61,\n",
       "          88,  61],\n",
       "        [ 61, 244, 244, 244,  61,  61,  61,  61,  61, 244, 244,  61,  61,  61,\n",
       "          61,  61],\n",
       "        [ 61, 244, 244, 244,  61,  61, 100, 155, 155,  46,  61,  61,  61,  61,\n",
       "          61,  61],\n",
       "        [ 61,  61, 244,  61,  61,  61, 100, 100,  61,  61,  61,  61,  61,  61,\n",
       "          61,  61],\n",
       "        [ 61,  61, 244,  61,  61,  61,  61, 244, 244,  61,  61,  61,  61,  61,\n",
       "          61,  61],\n",
       "        [ 61,  61, 244,  61,  61,  61,  61,  61,  61,  61,  61,  61,  61,  61,\n",
       "          61,  61],\n",
       "        [ 61,  61, 244,  61,  61,  61,  61,  61,  61,  61,  61,  61,  61,  61,\n",
       "          61,  61],\n",
       "        [ 61,  61, 244,  61,  61,  61,  61,  61,  61,  61,  61,  61,  61,  61,\n",
       "          61,  61],\n",
       "        [ 61,  61, 244,  61,  61,  61,  61,  61,  61,  61,  61,  61,  61,  61,\n",
       "          61,  61],\n",
       "        [ 61,  61, 244,  61,  61,  61,  61,  61,  61,  61,  61,  61,  61,  61,\n",
       "          61,  61],\n",
       "        [ 61,  61, 244,  61,  61,  61,  61,  61,  61,  61,  61,  61,  61,  61,\n",
       "          61,  61],\n",
       "        [ 61,  61, 244,  61,  61,  61,  61,  61,  61,  61,  61,  61,  61,  61,\n",
       "          61,  61],\n",
       "        [ 61,  61, 244, 244,  61,  61,  61,  61,  61,  61,  61,  61,  61,  61,\n",
       "          61,  61],\n",
       "        [ 61,  61,  61,  61,  61,  61,  61,  61,  61,  61,  61,  88,  88,  61,\n",
       "          61,  61],\n",
       "        [ 61,  61,  61,  61,  61,  61,  61,  61,  61,  61,  61,  61,  61,  61,\n",
       "          61,  61]], device='cuda:0')"
      ]
     },
     "execution_count": 59,
     "metadata": {},
     "output_type": "execute_result"
    }
   ],
   "source": [
    "img[0]"
   ]
  },
  {
   "cell_type": "code",
   "execution_count": null,
   "id": "9ca7bc98",
   "metadata": {},
   "outputs": [],
   "source": []
  }
 ],
 "metadata": {
  "kernelspec": {
   "display_name": "Python 3",
   "language": "python",
   "name": "python3"
  },
  "language_info": {
   "codemirror_mode": {
    "name": "ipython",
    "version": 3
   },
   "file_extension": ".py",
   "mimetype": "text/x-python",
   "name": "python",
   "nbconvert_exporter": "python",
   "pygments_lexer": "ipython3",
   "version": "3.8.5"
  }
 },
 "nbformat": 4,
 "nbformat_minor": 5
}
